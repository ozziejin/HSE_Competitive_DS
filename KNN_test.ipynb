{
 "cells": [
  {
   "cell_type": "code",
   "execution_count": 1,
   "metadata": {},
   "outputs": [],
   "source": [
    "%store -r __imp"
   ]
  },
  {
   "cell_type": "code",
   "execution_count": 2,
   "metadata": {},
   "outputs": [
    {
     "name": "stdout",
     "output_type": "stream",
     "text": [
      "The libraries have been loaded!\n"
     ]
    }
   ],
   "source": [
    "__imp"
   ]
  },
  {
   "cell_type": "code",
   "execution_count": 3,
   "metadata": {},
   "outputs": [],
   "source": [
    "from sklearn.neighbors import NearestNeighbors"
   ]
  },
  {
   "cell_type": "code",
   "execution_count": 4,
   "metadata": {},
   "outputs": [
    {
     "data": {
      "text/plain": [
       "(10, 2)"
      ]
     },
     "execution_count": 4,
     "metadata": {},
     "output_type": "execute_result"
    }
   ],
   "source": [
    "rows = 10\n",
    "X = np.random.randint(10,size=(rows,2))\n",
    "y = np.random.randint(0,3,rows)\n",
    "X.shape"
   ]
  },
  {
   "cell_type": "code",
   "execution_count": 5,
   "metadata": {},
   "outputs": [
    {
     "data": {
      "text/plain": [
       "3"
      ]
     },
     "execution_count": 5,
     "metadata": {},
     "output_type": "execute_result"
    }
   ],
   "source": [
    "np.unique(y).size"
   ]
  },
  {
   "cell_type": "code",
   "execution_count": 6,
   "metadata": {},
   "outputs": [],
   "source": [
    "k_list = [2,4,5,7,]\n",
    "knn = NearestNeighbors(n_neighbors=np.unique(y).size)"
   ]
  },
  {
   "cell_type": "code",
   "execution_count": 7,
   "metadata": {},
   "outputs": [
    {
     "data": {
      "text/plain": [
       "NearestNeighbors(algorithm='auto', leaf_size=30, metric='minkowski',\n",
       "                 metric_params=None, n_jobs=None, n_neighbors=3, p=2,\n",
       "                 radius=1.0)"
      ]
     },
     "execution_count": 7,
     "metadata": {},
     "output_type": "execute_result"
    }
   ],
   "source": [
    "knn.fit(X, y)"
   ]
  },
  {
   "cell_type": "code",
   "execution_count": 8,
   "metadata": {},
   "outputs": [
    {
     "data": {
      "text/plain": [
       "(array([[7, 7],\n",
       "        [8, 0],\n",
       "        [6, 1],\n",
       "        [2, 6],\n",
       "        [2, 4],\n",
       "        [8, 9],\n",
       "        [0, 9],\n",
       "        [2, 6],\n",
       "        [8, 6],\n",
       "        [7, 6]]), array([1, 0, 2, 1, 2, 0, 2, 2, 0, 0]))"
      ]
     },
     "execution_count": 8,
     "metadata": {},
     "output_type": "execute_result"
    }
   ],
   "source": [
    "X, y"
   ]
  },
  {
   "cell_type": "markdown",
   "metadata": {},
   "source": [
    "# test the kneighbors method"
   ]
  },
  {
   "cell_type": "code",
   "execution_count": 33,
   "metadata": {},
   "outputs": [
    {
     "data": {
      "text/plain": [
       "(array([[1.58113883, 3.53553391, 3.53553391, 4.74341649, 6.51920241,\n",
       "         6.67083203, 6.96419414]]),\n",
       " array([[4, 7, 3, 2, 9, 6, 1]], dtype=int64))"
      ]
     },
     "execution_count": 33,
     "metadata": {},
     "output_type": "execute_result"
    }
   ],
   "source": [
    "# use two instances as an example, but there is only 1 instance in the class\n",
    "NN_output = knn.kneighbors([[1.5, 2.5]], n_neighbors=max(k_list), return_distance=True)\n",
    "NN_output"
   ]
  },
  {
   "cell_type": "code",
   "execution_count": 34,
   "metadata": {},
   "outputs": [
    {
     "data": {
      "text/plain": [
       "array([4, 7, 3, 2, 9, 6, 1], dtype=int64)"
      ]
     },
     "execution_count": 34,
     "metadata": {},
     "output_type": "execute_result"
    }
   ],
   "source": [
    "# indices of the nearest 4\n",
    "neighs = NN_output[1][0]\n",
    "neighs"
   ]
  },
  {
   "cell_type": "code",
   "execution_count": 35,
   "metadata": {},
   "outputs": [
    {
     "data": {
      "text/plain": [
       "array([1.58113883, 3.53553391, 3.53553391, 4.74341649, 6.51920241,\n",
       "       6.67083203, 6.96419414])"
      ]
     },
     "execution_count": 35,
     "metadata": {},
     "output_type": "execute_result"
    }
   ],
   "source": [
    "# distances of the nearest 4\n",
    "neighs_dist = NN_output[0][0]\n",
    "neighs_dist"
   ]
  },
  {
   "cell_type": "code",
   "execution_count": 36,
   "metadata": {},
   "outputs": [
    {
     "data": {
      "text/plain": [
       "array([2, 2, 1, 2, 0, 2, 0])"
      ]
     },
     "execution_count": 36,
     "metadata": {},
     "output_type": "execute_result"
    }
   ],
   "source": [
    "neighs_y = y[neighs]\n",
    "n_classes = y.max() + 1\n",
    "n_classes\n",
    "neighs_y"
   ]
  },
  {
   "cell_type": "markdown",
   "metadata": {},
   "source": [
    "# 1"
   ]
  },
  {
   "cell_type": "markdown",
   "metadata": {},
   "source": [
    "    ''' \n",
    "        1. Fraction of objects of every class.\n",
    "           It is basically a KNNСlassifiers predictions.\n",
    "    '''"
   ]
  },
  {
   "cell_type": "code",
   "execution_count": 37,
   "metadata": {},
   "outputs": [
    {
     "data": {
      "text/plain": [
       "array([4, 7], dtype=int64)"
      ]
     },
     "execution_count": 37,
     "metadata": {},
     "output_type": "execute_result"
    }
   ],
   "source": [
    "# only take the 2 cloest\n",
    "k = 2\n",
    "neighs[:k]"
   ]
  },
  {
   "cell_type": "code",
   "execution_count": 38,
   "metadata": {},
   "outputs": [
    {
     "data": {
      "text/plain": [
       "array([2, 2])"
      ]
     },
     "execution_count": 38,
     "metadata": {},
     "output_type": "execute_result"
    }
   ],
   "source": [
    "# labels of\n",
    "neighs_y[:k] "
   ]
  },
  {
   "cell_type": "code",
   "execution_count": 39,
   "metadata": {},
   "outputs": [
    {
     "data": {
      "text/plain": [
       "array([0, 0, 2], dtype=int64)"
      ]
     },
     "execution_count": 39,
     "metadata": {},
     "output_type": "execute_result"
    }
   ],
   "source": [
    "labels = np.bincount(neighs_y[:k], minlength=n_classes)\n",
    "labels"
   ]
  },
  {
   "cell_type": "code",
   "execution_count": 40,
   "metadata": {},
   "outputs": [
    {
     "data": {
      "text/plain": [
       "(4, 3)"
      ]
     },
     "execution_count": 40,
     "metadata": {},
     "output_type": "execute_result"
    }
   ],
   "source": [
    "len(k_list), n_classes"
   ]
  },
  {
   "cell_type": "code",
   "execution_count": 41,
   "metadata": {},
   "outputs": [
    {
     "data": {
      "text/plain": [
       "[array([0., 0., 1.]),\n",
       " array([0.  , 0.25, 0.75]),\n",
       " array([0.2, 0.2, 0.6]),\n",
       " array([0.28571429, 0.14285714, 0.57142857])]"
      ]
     },
     "execution_count": 41,
     "metadata": {},
     "output_type": "execute_result"
    }
   ],
   "source": [
    "return_list = []\n",
    "for k in k_list:\n",
    "    labels = np.bincount(neighs_y[:k],minlength=n_classes)\n",
    "    feats = labels/labels.sum()\n",
    "    \n",
    "    assert len(feats) == n_classes\n",
    "    return_list += [feats]\n",
    "return_list"
   ]
  },
  {
   "cell_type": "markdown",
   "metadata": {},
   "source": [
    "# 2"
   ]
  },
  {
   "cell_type": "markdown",
   "metadata": {},
   "source": [
    "    '''\n",
    "        2. Same label streak: the largest number N, \n",
    "           such that N nearest neighbors have the same label.\n",
    "    '''"
   ]
  },
  {
   "cell_type": "code",
   "execution_count": 42,
   "metadata": {},
   "outputs": [
    {
     "name": "stdout",
     "output_type": "stream",
     "text": [
      "[2 2 2 2 0 1 1 0] 4\n",
      "[1 2 2 2 0 1 1 0] 1\n",
      "[ 0.  0. nan  2.  0.  1.  1.  0.] 2\n",
      "[0 0 0 0 0 0 0] 7\n"
     ]
    }
   ],
   "source": [
    "# N label streak\n",
    "for a in [np.array([2,2,2,2,0,1,1,0]), np.array([1,2,2,2,0,1,1,0]), np.array([0,0,np.nan,2,0,1,1,0]), np.array([0,0,0,0,0,0,0])]:\n",
    "    print(a, np.where(np.unique(a).size==1, a.size, np.argmin(a[:-1]==a[1:]) + 1))"
   ]
  },
  {
   "cell_type": "code",
   "execution_count": 43,
   "metadata": {},
   "outputs": [
    {
     "data": {
      "text/plain": [
       "array(2, dtype=int64)"
      ]
     },
     "execution_count": 43,
     "metadata": {},
     "output_type": "execute_result"
    }
   ],
   "source": [
    "neighs_y\n",
    "np.where(np.unique(neighs_y).size==1, neighs_y.size, np.argmin(neighs_y[:-1]==neighs_y[1:]) + 1)"
   ]
  },
  {
   "cell_type": "code",
   "execution_count": 70,
   "metadata": {},
   "outputs": [],
   "source": [
    "# test\n",
    "feats =  np.where(np.unique(neighs_y).size==1, neighs_y.size, np.argmin(neighs_y[:-1]==neighs_y[1:]) + 1)\n",
    "\n",
    "assert feats.size == 1\n",
    "return_list += [feats]\n",
    "return_list"
   ]
  },
  {
   "cell_type": "markdown",
   "metadata": {},
   "source": [
    "# 3"
   ]
  },
  {
   "cell_type": "markdown",
   "metadata": {},
   "source": [
    "    '''\n",
    "        3. Minimum distance to objects of each class\n",
    "           Find the first instance of a class and take its distance as features.\n",
    "\n",
    "           If there are no neighboring objects of some classes, \n",
    "           Then set distance to that class to be 999.\n",
    "    '''"
   ]
  },
  {
   "cell_type": "code",
   "execution_count": 45,
   "metadata": {},
   "outputs": [
    {
     "data": {
      "text/plain": [
       "1.5811388300841898"
      ]
     },
     "execution_count": 45,
     "metadata": {},
     "output_type": "execute_result"
    }
   ],
   "source": [
    "neighs_y\n",
    "neighs_dist\n",
    "c = 2\n",
    "dis_array = neighs_dist[np.where(neighs_y==c)]\n",
    "dis_array\n",
    "dis = 999 if dis_array.size==0 else dis_array[0]\n",
    "dis"
   ]
  },
  {
   "cell_type": "code",
   "execution_count": 46,
   "metadata": {},
   "outputs": [
    {
     "data": {
      "text/plain": [
       "[6.519202405202649, 3.5355339059327378, 1.5811388300841898]"
      ]
     },
     "execution_count": 46,
     "metadata": {},
     "output_type": "execute_result"
    }
   ],
   "source": [
    "feats = []\n",
    "for c in range(n_classes):\n",
    "    dis_array = neighs_dist[np.where(neighs_y==c)]\n",
    "    dis = 999 if dis_array.size==0 else dis_array[0]\n",
    "    feats.append(dis)\n",
    "\n",
    "# feats = np.array(feats).reshape(-1,1)\n",
    "assert len(feats) == n_classes\n",
    "feats"
   ]
  },
  {
   "cell_type": "code",
   "execution_count": 47,
   "metadata": {},
   "outputs": [
    {
     "data": {
      "text/plain": [
       "[array([0., 0., 1.]),\n",
       " array([0.  , 0.25, 0.75]),\n",
       " array([0.2, 0.2, 0.6]),\n",
       " array([0.28571429, 0.14285714, 0.57142857]),\n",
       " array([2], dtype=int64),\n",
       " [6.519202405202649, 3.5355339059327378, 1.5811388300841898]]"
      ]
     },
     "execution_count": 47,
     "metadata": {},
     "output_type": "execute_result"
    }
   ],
   "source": [
    "return_list += [feats]\n",
    "return_list"
   ]
  },
  {
   "cell_type": "markdown",
   "metadata": {},
   "source": [
    "# 4"
   ]
  },
  {
   "cell_type": "markdown",
   "metadata": {},
   "source": [
    "    '''\n",
    "        4. Minimum *normalized* distance to objects of each class\n",
    "           As 3. but we normalize (divide) the distances\n",
    "           by the distance to the closest neighbor.\n",
    "\n",
    "           If there are no neighboring objects of some classes, \n",
    "           Then set distance to that class to be 999.\n",
    "\n",
    "           Do not forget to add self.eps to denominator.\n",
    "    '''"
   ]
  },
  {
   "cell_type": "code",
   "execution_count": 48,
   "metadata": {},
   "outputs": [
    {
     "data": {
      "text/plain": [
       "[4.123103017938348, 2.236066563287122, 0.9999993675448681]"
      ]
     },
     "execution_count": 48,
     "metadata": {},
     "output_type": "execute_result"
    }
   ],
   "source": [
    "feats = []\n",
    "eps=1e-6\n",
    "for c in range(n_classes):\n",
    "    dis_array = neighs_dist[np.where(neighs_y==c)]\n",
    "    dis = 999 if dis_array.size==0 else dis_array[0] / (neighs_dist[0] + eps)\n",
    "    feats.append(dis)\n",
    "\n",
    "# feats = np.array(feats).reshape(-1,1)\n",
    "assert len(feats) == n_classes\n",
    "feats"
   ]
  },
  {
   "cell_type": "code",
   "execution_count": 49,
   "metadata": {},
   "outputs": [
    {
     "data": {
      "text/plain": [
       "[array([0., 0., 1.]),\n",
       " array([0.  , 0.25, 0.75]),\n",
       " array([0.2, 0.2, 0.6]),\n",
       " array([0.28571429, 0.14285714, 0.57142857]),\n",
       " array([2], dtype=int64),\n",
       " [6.519202405202649, 3.5355339059327378, 1.5811388300841898],\n",
       " [4.123103017938348, 2.236066563287122, 0.9999993675448681]]"
      ]
     },
     "execution_count": 49,
     "metadata": {},
     "output_type": "execute_result"
    }
   ],
   "source": [
    "return_list += [feats]\n",
    "return_list"
   ]
  },
  {
   "cell_type": "markdown",
   "metadata": {},
   "source": [
    "# 5"
   ]
  },
  {
   "cell_type": "markdown",
   "metadata": {},
   "source": [
    "    '''\n",
    "        5. \n",
    "           5.1 Distance to Kth neighbor\n",
    "               Think of this as of quantiles of a distribution\n",
    "           5.2 Distance to Kth neighbor normalized by \n",
    "               distance to the first neighbor\n",
    "\n",
    "           feat_51, feat_52 are answers to 5.1. and 5.2.\n",
    "           should be scalars\n",
    "\n",
    "           Do not forget to add self.eps to denominator.\n",
    "    '''"
   ]
  },
  {
   "cell_type": "code",
   "execution_count": 50,
   "metadata": {},
   "outputs": [
    {
     "data": {
      "text/plain": [
       "([2, 4, 5, 7],\n",
       " array([1.58113883, 3.53553391, 3.53553391, 4.74341649, 6.51920241,\n",
       "        6.67083203, 6.96419414]))"
      ]
     },
     "execution_count": 50,
     "metadata": {},
     "output_type": "execute_result"
    }
   ],
   "source": [
    "k_list,neighs_dist"
   ]
  },
  {
   "cell_type": "code",
   "execution_count": 51,
   "metadata": {},
   "outputs": [
    {
     "data": {
      "text/plain": [
       "[array([0., 0., 1.]),\n",
       " array([0.  , 0.25, 0.75]),\n",
       " array([0.2, 0.2, 0.6]),\n",
       " array([0.28571429, 0.14285714, 0.57142857]),\n",
       " array([2], dtype=int64),\n",
       " [6.519202405202649, 3.5355339059327378, 1.5811388300841898],\n",
       " [4.123103017938348, 2.236066563287122, 0.9999993675448681],\n",
       " [3.5355339059327378, 2.236066563287122],\n",
       " [4.743416490252569, 2.999998102634604],\n",
       " [6.519202405202649, 4.123103017938348],\n",
       " [6.96419413859206, 4.404540323433155]]"
      ]
     },
     "execution_count": 51,
     "metadata": {},
     "output_type": "execute_result"
    }
   ],
   "source": [
    "for k in k_list:\n",
    "    feat_51 = neighs_dist[k-1]\n",
    "    feat_52 = neighs_dist[k-1] / (neighs_dist[0] + eps)\n",
    "#     print(feat_51, feat_52)\n",
    "    return_list += [[feat_51, feat_52]]\n",
    "return_list"
   ]
  },
  {
   "cell_type": "markdown",
   "metadata": {},
   "source": [
    "# 6"
   ]
  },
  {
   "cell_type": "markdown",
   "metadata": {},
   "source": [
    "    '''\n",
    "    6. Mean distance to neighbors of each class for each K from `k_list` \n",
    "       For each class select the neighbors of that class among K nearest neighbors \n",
    "       and compute the average distance to those objects\n",
    "\n",
    "       If there are no objects of a certain class among K neighbors, set mean distance to 999\n",
    "\n",
    "       You can use `np.bincount` with appropriate weights\n",
    "       Don't forget, that if you divide by something, \n",
    "       You need to add `self.eps` to denominator.\n",
    "        '''\n"
   ]
  },
  {
   "cell_type": "code",
   "execution_count": 52,
   "metadata": {},
   "outputs": [
    {
     "data": {
      "text/plain": [
       "array([999.        , 999.        ,   2.55833509])"
      ]
     },
     "execution_count": 52,
     "metadata": {},
     "output_type": "execute_result"
    }
   ],
   "source": [
    "k = 2\n",
    "neighs_y[:k], neighs_dist[:k]\n",
    "np.bincount(neighs_y[:k])\n",
    "mean_dist = np.bincount(neighs_y[:k], neighs_dist[:k]) / (np.bincount(neighs_y[:k]) + eps)\n",
    "mean_dist\n",
    "feats = np.where(mean_dist==0,999,mean_dist)\n",
    "feats"
   ]
  },
  {
   "cell_type": "code",
   "execution_count": 53,
   "metadata": {},
   "outputs": [],
   "source": [
    "for k in k_list:\n",
    "    mean_dist = np.bincount(neighs_y[:k], weights=neighs_dist[:k], minlength=n_classes) \\\n",
    "        / (np.bincount(neighs_y[:k], minlength=n_classes) + eps)\n",
    "    feats = np.where(mean_dist==0, 999, mean_dist)\n",
    "    \n",
    "    assert len(feats) == n_classes\n",
    "    return_list += [feats]"
   ]
  },
  {
   "cell_type": "code",
   "execution_count": 54,
   "metadata": {},
   "outputs": [
    {
     "data": {
      "text/plain": [
       "[array([0., 0., 1.]),\n",
       " array([0.  , 0.25, 0.75]),\n",
       " array([0.2, 0.2, 0.6]),\n",
       " array([0.28571429, 0.14285714, 0.57142857]),\n",
       " array([2], dtype=int64),\n",
       " [6.519202405202649, 3.5355339059327378, 1.5811388300841898],\n",
       " [4.123103017938348, 2.236066563287122, 0.9999993675448681],\n",
       " [3.5355339059327378, 2.236066563287122],\n",
       " [4.743416490252569, 2.999998102634604],\n",
       " [6.519202405202649, 4.123103017938348],\n",
       " [6.96419413859206, 4.404540323433155],\n",
       " array([999.        , 999.        ,   2.55833509]),\n",
       " array([999.        ,   3.53553037,   3.28669531]),\n",
       " array([6.51919589, 3.53553037, 3.28669531]),\n",
       " array([6.7416949 , 3.53553037, 4.13272928])]"
      ]
     },
     "execution_count": 54,
     "metadata": {},
     "output_type": "execute_result"
    }
   ],
   "source": [
    "return_list"
   ]
  },
  {
   "cell_type": "markdown",
   "metadata": {},
   "source": [
    "# stack"
   ]
  },
  {
   "cell_type": "code",
   "execution_count": 56,
   "metadata": {},
   "outputs": [
    {
     "data": {
      "text/plain": [
       "((39,), array([0.00000000e+00, 0.00000000e+00, 1.00000000e+00, 0.00000000e+00,\n",
       "        2.50000000e-01, 7.50000000e-01, 2.00000000e-01, 2.00000000e-01,\n",
       "        6.00000000e-01, 2.85714286e-01, 1.42857143e-01, 5.71428571e-01,\n",
       "        2.00000000e+00, 6.51920241e+00, 3.53553391e+00, 1.58113883e+00,\n",
       "        4.12310302e+00, 2.23606656e+00, 9.99999368e-01, 3.53553391e+00,\n",
       "        2.23606656e+00, 4.74341649e+00, 2.99999810e+00, 6.51920241e+00,\n",
       "        4.12310302e+00, 6.96419414e+00, 4.40454032e+00, 9.99000000e+02,\n",
       "        9.99000000e+02, 2.55833509e+00, 9.99000000e+02, 3.53553037e+00,\n",
       "        3.28669531e+00, 6.51919589e+00, 3.53553037e+00, 3.28669531e+00,\n",
       "        6.74169490e+00, 3.53553037e+00, 4.13272928e+00]))"
      ]
     },
     "execution_count": 56,
     "metadata": {},
     "output_type": "execute_result"
    }
   ],
   "source": [
    "knn_feats = np.hstack(return_list)\n",
    "knn_feats.shape, knn_feats"
   ]
  },
  {
   "cell_type": "code",
   "execution_count": null,
   "metadata": {},
   "outputs": [],
   "source": []
  }
 ],
 "metadata": {
  "kernelspec": {
   "display_name": "Python 3",
   "language": "python",
   "name": "python3"
  },
  "language_info": {
   "codemirror_mode": {
    "name": "ipython",
    "version": 3
   },
   "file_extension": ".py",
   "mimetype": "text/x-python",
   "name": "python",
   "nbconvert_exporter": "python",
   "pygments_lexer": "ipython3",
   "version": "3.7.4"
  }
 },
 "nbformat": 4,
 "nbformat_minor": 4
}
